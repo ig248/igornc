{
 "cells": [
  {
   "cell_type": "code",
   "execution_count": 54,
   "id": "b4a6b54d-a6d9-46b4-aaf8-9777fe6c1f65",
   "metadata": {},
   "outputs": [],
   "source": [
    "import libs.fs\n",
    "import parse\n",
    "import numpy as np\n",
    "import pandas as pd\n",
    "import io\n",
    "import scipy.interpolate\n",
    "import matplotlib.pyplot as plt"
   ]
  },
  {
   "cell_type": "code",
   "execution_count": 89,
   "id": "91d2535b-9b4c-4e90-a24b-6f1b27e5d9e2",
   "metadata": {},
   "outputs": [],
   "source": [
    "TEMPLATE = \"\"\"RepRapFirmware height map file v2, min error {min:.3f}, max error {max:.3f}, mean {mean:.3f}, deviation {std:.3f}\n",
    "axis0,axis1,min0,max0,min1,max1,radius,spacing0,spacing1,num0,num1\n",
    "X,Y,-170.00,169.00,-170.00,170.00,-1.00,56.49,56.66,7,7\n",
    "{data}\n",
    "\"\"\""
   ]
  },
  {
   "cell_type": "code",
   "execution_count": 90,
   "id": "3abc65b6-d354-4bf9-9ede-55f22bf1230f",
   "metadata": {},
   "outputs": [],
   "source": [
    "filenames = [\n",
    "    \"/Users/igor/Downloads/heightmaps/heightmap_023C.csv\",\n",
    "    \"/Users/igor/Downloads/heightmaps/heightmap_060C.csv\",\n",
    "    \"/Users/igor/Downloads/heightmaps/heightmap_100C.csv\",\n",
    "]"
   ]
  },
  {
   "cell_type": "code",
   "execution_count": 91,
   "id": "6d7ea48e-1120-4b4f-bc2b-4064945a4946",
   "metadata": {},
   "outputs": [],
   "source": [
    "def load(filename):\n",
    "    with open(filename) as f:\n",
    "        content = f.read()\n",
    "\n",
    "    parsed = parse.parse(TEMPLATE, content)\n",
    "    temp = int(filename[-8:-5])\n",
    "    values = pd.read_csv(io.StringIO(parsed[\"data\"]), header=None).values\n",
    "    return temp, values"
   ]
  },
  {
   "cell_type": "code",
   "execution_count": 92,
   "id": "26fc729a-6076-4028-b2a0-1e6bc869cd6f",
   "metadata": {},
   "outputs": [],
   "source": [
    "all_temps = [load(filename) for filename in filenames]"
   ]
  },
  {
   "cell_type": "code",
   "execution_count": 93,
   "id": "a796172e-c170-42fa-be46-d4d5908da3e5",
   "metadata": {},
   "outputs": [
    {
     "name": "stdout",
     "output_type": "stream",
     "text": [
      "(3,) (3, 7, 7)\n"
     ]
    }
   ],
   "source": [
    "temps, values = zip(*all_temps)\n",
    "temps = np.array(temps)\n",
    "values = np.array(values)\n",
    "print(temps.shape, values.shape)\n",
    "interp = scipy.interpolate.interp1d(temps, values, axis=0, fill_value=\"extrapolate\")"
   ]
  },
  {
   "cell_type": "code",
   "execution_count": 94,
   "id": "5c02b294-6938-4b8c-8e84-f621ab92211a",
   "metadata": {},
   "outputs": [
    {
     "name": "stdout",
     "output_type": "stream",
     "text": [
      "RepRapFirmware height map file v2, min error -0.030, max error 0.929, mean 0.508, deviation 0.240\n",
      "axis0,axis1,min0,max0,min1,max1,radius,spacing0,spacing1,num0,num1\n",
      "X,Y,-170.00,169.00,-170.00,170.00,-1.00,56.49,56.66,7,7\n",
      "  0.532,  0.447,  0.287,  0.207,  0.248,  0.354,  0.525\n",
      "  0.402,  0.558,  0.582,  0.540,  0.511,  0.464,  0.331\n",
      "  0.395,  0.738,  0.882,  0.856,  0.810,  0.620,  0.322\n",
      "  0.366,  0.765,  0.911,  0.929,  0.849,  0.639,  0.250\n",
      "  0.423,  0.709,  0.861,  0.850,  0.772,  0.586,  0.331\n",
      "  0.515,  0.577,  0.605,  0.590,  0.545,  0.532,  0.459\n",
      "  0.417,  0.200,  0.045, -0.015, -0.030,  0.136,  0.436\n"
     ]
    }
   ],
   "source": [
    "!cat /Users/igor/Downloads/heightmaps/heightmap_023C.csv"
   ]
  },
  {
   "cell_type": "code",
   "execution_count": 109,
   "id": "b4f9d787-d16d-40cc-9bbd-0fc0bea9013e",
   "metadata": {},
   "outputs": [],
   "source": [
    "def write_interp(t):\n",
    "    y = interp(t)\n",
    "    data_rows = [\n",
    "        \"\".join(f\"  {val:.3f},\" for val in row)[:-1]\n",
    "        for row in y\n",
    "    ]\n",
    "    data_csv = \"\\n\".join(data_rows)\n",
    "    content = TEMPLATE.format(\n",
    "        min=np.min(y),\n",
    "        max=np.max(y),\n",
    "        mean=np.mean(y),\n",
    "        std=np.std(y),\n",
    "        data=data_csv\n",
    "    )\n",
    "    with open(\"/Users/igor/Downloads/heightmaps/heightmap_{t}C_interp.csv\".format(t=str(t).zfill(3)), \"wt\") as f:\n",
    "        f.write(content)"
   ]
  },
  {
   "cell_type": "code",
   "execution_count": 110,
   "id": "4d57ff4f-fede-4c27-8158-17445cfdb2e2",
   "metadata": {},
   "outputs": [],
   "source": [
    "for t in [20, 30, 40, 50, 60, 70, 80, 90, 100]:\n",
    "    write_interp(t)"
   ]
  },
  {
   "cell_type": "code",
   "execution_count": null,
   "id": "d163c3b0-e98b-44be-acb7-5533f480bccb",
   "metadata": {},
   "outputs": [],
   "source": []
  }
 ],
 "metadata": {
  "kernelspec": {
   "display_name": "Python 3 (ipykernel)",
   "language": "python",
   "name": "python3"
  },
  "language_info": {
   "codemirror_mode": {
    "name": "ipython",
    "version": 3
   },
   "file_extension": ".py",
   "mimetype": "text/x-python",
   "name": "python",
   "nbconvert_exporter": "python",
   "pygments_lexer": "ipython3",
   "version": "3.10.5"
  }
 },
 "nbformat": 4,
 "nbformat_minor": 5
}
